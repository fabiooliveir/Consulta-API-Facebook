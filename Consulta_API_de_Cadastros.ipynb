{
  "nbformat": 4,
  "nbformat_minor": 0,
  "metadata": {
    "colab": {
      "provenance": [],
      "authorship_tag": "ABX9TyPoyp/3gTuiq14LXYquRAZH",
      "include_colab_link": true
    },
    "kernelspec": {
      "name": "python3",
      "display_name": "Python 3"
    },
    "language_info": {
      "name": "python"
    }
  },
  "cells": [
    {
      "cell_type": "markdown",
      "metadata": {
        "id": "view-in-github",
        "colab_type": "text"
      },
      "source": [
        "<a href=\"https://colab.research.google.com/github/fabiooliveir/facebook-leads-api/blob/main/Consulta_API_de_Cadastros.ipynb\" target=\"_parent\"><img src=\"https://colab.research.google.com/assets/colab-badge.svg\" alt=\"Open In Colab\"/></a>"
      ]
    },
    {
      "cell_type": "code",
      "source": [
        "import requests\n",
        "import pandas as pd\n",
        "import os"
      ],
      "metadata": {
        "id": "DT8vJgLsEtCW"
      },
      "execution_count": null,
      "outputs": []
    },
    {
      "cell_type": "markdown",
      "source": [
        "## Consulta para Obtenção do Access Token da Página do Facebook\n",
        "\n",
        "Nesta célula, realizamos uma consulta à API do Facebook para obter o Access Token da página. Este token é necessário para realizar operações em nome da página, como publicar conteúdo ou obter métricas. Certifique-se de substituir 'ID_DA_PAGINA' pelo ID da sua página e '[[TOKEN USUÁRIO]]' pelo seu token de usuário válido.\n",
        "\n",
        "### Parâmetros:\n",
        "- `url1`: URL da API do Facebook para obter o Access Token.\n",
        "- `params1`: Parâmetros da consulta, incluindo os campos a serem retornados ('access_token') e o token de acesso do usuário.\n",
        "- `response1`: Resposta da API contendo o Access Token.\n",
        "- `access_token`: Access Token da página, utilizado posteriormente para realizar operações na página do Facebook.\n"
      ],
      "metadata": {
        "id": "gErxis5OGfT6"
      }
    },
    {
      "cell_type": "code",
      "execution_count": null,
      "metadata": {
        "id": "AjcGRzZXHZdo"
      },
      "outputs": [],
      "source": [
        "url1 = \"https://graph.facebook.com/v19.0/\"+os.environ.get('ID_DA_PAGINA')\n",
        "params1 = {\n",
        "    'fields': 'access_token',\n",
        "    'access_token': '[[TOKEN USUÁRIO]]'\n",
        "}\n",
        "response1 = requests.get(url1, params=params1)\n",
        "access_token = response1.json()['access_token']\n"
      ]
    },
    {
      "cell_type": "markdown",
      "source": [
        "## Consulta para Obtenção de Leads das Formulários de Geração de Leads\n",
        "\n",
        "Nesta consulta, utilizamos o Access Token obtido anteriormente para acessar os formulários de geração de leads da página do Facebook. Estamos solicitando os leads gerados por esses formulários.\n",
        "\n",
        "### Parâmetros:\n",
        "- `url2`: URL da API do Facebook para obter os leads dos formulários de geração de leads da página.\n",
        "- `params2`: Parâmetros da consulta, incluindo os campos a serem retornados ('access_token,leadgen_forms{leads}') e o Access Token da página.\n",
        "- `response2`: Resposta da API contendo os leads dos formulários de geração de leads.\n"
      ],
      "metadata": {
        "id": "O_R-FID4HZPf"
      }
    },
    {
      "cell_type": "code",
      "source": [
        "\n",
        "url2 = \"https://graph.facebook.com/v19.0/\"+os.environ.get('ID_DA_PAGINA')\n",
        "params2 = {\n",
        "    'fields': 'access_token,leadgen_forms{leads}',\n",
        "    'access_token': access_token\n",
        "}\n",
        "response2 = requests.get(url2, params=params2)\n",
        "\n",
        "print(response2.json())"
      ],
      "metadata": {
        "id": "ZKzJbIAeE-sr"
      },
      "execution_count": null,
      "outputs": []
    },
    {
      "cell_type": "markdown",
      "source": [
        "## Extração e Processamento de Dados dos Leads\n",
        "\n",
        "Nesta célula, extraímos os dados dos leads dos formulários de geração de leads da página do Facebook. O objeto `response2.json()` contém a resposta da API do Facebook, que é um dicionário contendo os leads dos formulários. Em seguida, iteramos sobre os leads para extrair os dados necessários, como nome completo, e-mail e número de telefone.\n",
        "\n",
        "### Passos:\n",
        "1. Extrair os leads da resposta da API.\n",
        "2. Iterar sobre os leads e extrair os dados de cada lead.\n",
        "3. Criar um DataFrame do Pandas com os dados extraídos.\n",
        "\n",
        "### Variáveis:\n",
        "- `leads`: Lista de leads dos formulários de geração de leads.\n",
        "- `full_names`: Lista de nomes completos dos leads.\n",
        "- `emails`: Lista de e-mails dos leads.\n",
        "- `phone_numbers`: Lista de números de telefone dos leads.\n",
        "- `lead_data`: Dados de um lead específico.\n",
        "- `lead_dict`: Dicionário contendo os dados de um lead.\n",
        "- `df`: DataFrame do Pandas contendo os dados extraídos.\n"
      ],
      "metadata": {
        "id": "Dnu62g3GHr8V"
      }
    },
    {
      "cell_type": "code",
      "source": [
        "response_data = response2.json()\n",
        "\n",
        "leads = response_data.get('leadgen_forms', {}).get('data', [])\n",
        "\n",
        "full_names = []\n",
        "emails = []\n",
        "phone_numbers = []\n",
        "\n",
        "for lead in leads:\n",
        "    lead_data = lead.get('leads', {}).get('data', [])\n",
        "    for data in lead_data:\n",
        "        if 'field_data' in data:\n",
        "            lead_dict = {item['name']: item['values'][0] for item in data['field_data']}\n",
        "            full_names.append(lead_dict.get('full_name', None))\n",
        "            emails.append(lead_dict.get('email', None))\n",
        "            phone_numbers.append(lead_dict.get('phone_number', None))\n",
        "        else:\n",
        "            full_names.append(None)\n",
        "            emails.append(None)\n",
        "            phone_numbers.append(None)\n",
        "\n",
        "df = pd.DataFrame({\n",
        "    'full_name': full_names,\n",
        "    'email': emails,\n",
        "    'phone_number': phone_numbers\n",
        "})\n",
        "\n",
        "df.head()"
      ],
      "metadata": {
        "id": "yNHelp1XXppr"
      },
      "execution_count": null,
      "outputs": []
    }
  ]
}